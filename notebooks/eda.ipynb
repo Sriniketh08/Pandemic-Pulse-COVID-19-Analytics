{
  "cells": [
    {
      "cell_type": "markdown",
      "metadata": {},
      "source": [
        "# COVID-19 EDA\\n",
        "Quick exploratory data analysis (EDA). Run all cells after installing requirements."
      ]
    },
    {
      "cell_type": "code",
      "execution_count": 1,
      "metadata": {},
      "outputs": [],
      "source": [
        "import pandas as pd\\n",
        "from pathlib import Path\\n",
        "DATA_DIR = Path('../data')\\n",
        "CSV = DATA_DIR / 'owid-covid-data.csv'\\n",
        "df = pd.read_csv(CSV, parse_dates=['date'])\\n",
        "df = df[df['continent'].notna()]\\n",
        "df.head()"
      ]
    },
    {
      "cell_type": "code",
      "execution_count": 2,
      "metadata": {},
      "outputs": [],
      "source": [
        "# Latest snapshot per country\\n",
        "latest = (df.sort_values('date').groupby('location', as_index=False).tail(1))\\n",
        "latest[['location','total_cases','total_deaths','people_fully_vaccinated']].head(10)"
      ]
    }
  ],
  "metadata": {
    "kernelspec": {
      "display_name": "Python 3",
      "language": "python",
      "name": "python3"
    },
    "language_info": {
      "name": "python",
      "version": "3"
    }
  },
  "nbformat": 4,
  "nbformat_minor": 5
}